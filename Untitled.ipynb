{
 "cells": [
  {
   "cell_type": "markdown",
   "metadata": {},
   "source": [
    "# Cel\n",
    "\n",
    "Implementacja grafowych algorytmów przeszukiwania przestrzeni stanów, porównanie metod ślepych i heurystycznych na przykładzie układanki \"piętnastka\".\n",
    "\n",
    "# Wprowadzenie\n",
    "\n",
    "## O grze \"piętnastka\"\n",
    "\n",
    "\"Piętnastka\" jest grą z serii łamigłówek logicznych. Układanka posiada wymiar MxN (najczęściej są to układy o równych wymiarach -  4x4 lub 3x3). Jedno pole jest zawsze wolne. Gracz wykonuje ruchy przemieszczając klocki z wykorzystaniem wolnego pola. Elementy układanki mogą reprezentować liczby - wówczas zadaniem gracza jest ułożenie elementów w odpowiednim szeregu.\n",
    "\n",
    "## Złożoność problemu i rozwiązywalność\n",
    "\n",
    "Ilość stanów każdej układanki można wyznaczyć za pomocą wzoru: $$ iloscStanów = iloscPól! $$\n",
    "Dla układanki 4x4 będzie to liczba $$ 16! = 2.0922789888 * 10^{13} $$\n",
    "Jednakże nie wszystkie układy są rozwiązywalne. Możemy je podzielić na parzyste i nieparzyste - co oznacza, że do uzyskania stanu wzorcowego należy wykonać parzystą lub nieparzystą liczbę ruchów. Wszystkie układy pochodzące poprzez przesuwanie klocków w obrębie wolnego pola, począwszy od układu docelowego, są układami parzystymi. \n",
    "\n",
    "## Reprezentacja przestrzeni stanów jako graf\n",
    "\n",
    "Grafem nazywamy obiekt matematyczny składający się z niepustego zbioru wierzchołków W i zbioru krawędzi K łączącego niektóre z tych wierzchołków [1]. Graf może świetnie posłużyć do zapisu przebiegu gry \"piętnastka\". Za wierzchołki grafu można przyjąć kolejne stany planszy układanki, a krawędzie można zdefiniować jako kierunek przesunięcia wolnego pola (tj. zamiany wolnego pola z elementem znajdującym się względem niego nad nim, pod nim, z jego lewej lub prawej strony)."
   ]
  },
  {
   "cell_type": "markdown",
   "metadata": {},
   "source": []
  },
  {
   "cell_type": "markdown",
   "metadata": {},
   "source": []
  },
  {
   "cell_type": "markdown",
   "metadata": {},
   "source": []
  },
  {
   "cell_type": "markdown",
   "metadata": {},
   "source": []
  },
  {
   "cell_type": "markdown",
   "metadata": {},
   "source": []
  },
  {
   "cell_type": "markdown",
   "metadata": {},
   "source": []
  },
  {
   "cell_type": "code",
   "execution_count": null,
   "metadata": {},
   "outputs": [],
   "source": []
  }
 ],
 "metadata": {
  "kernelspec": {
   "display_name": "Python 3",
   "language": "python",
   "name": "python3"
  },
  "language_info": {
   "codemirror_mode": {
    "name": "ipython",
    "version": 3
   },
   "file_extension": ".py",
   "mimetype": "text/x-python",
   "name": "python",
   "nbconvert_exporter": "python",
   "pygments_lexer": "ipython3",
   "version": "3.7.1"
  }
 },
 "nbformat": 4,
 "nbformat_minor": 2
}
